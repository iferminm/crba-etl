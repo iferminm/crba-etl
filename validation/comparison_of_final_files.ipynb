{
 "cells": [
  {
   "attachments": {},
   "cell_type": "markdown",
   "metadata": {},
   "source": [
    "# EDA of final final and comparison with old file"
   ]
  },
  {
   "attachments": {},
   "cell_type": "markdown",
   "metadata": {},
   "source": [
    "## 1. Preliminaries"
   ]
  },
  {
   "cell_type": "code",
   "execution_count": null,
   "metadata": {},
   "outputs": [],
   "source": [
    "import pandas as pd\n",
    "import seaborn as sns\n",
    "from matplotlib import pyplot as plt\n",
    "import os\n",
    "import numpy as np\n",
    "from comparison_of_final_files.compare_two_final_csvs import FinalCrbaFileComparator\n",
    "#from comparison_of_final_files import FinalCrbaFileComparator"
   ]
  },
  {
   "cell_type": "code",
   "execution_count": null,
   "metadata": {},
   "outputs": [],
   "source": [
    "len(my_comparer.df_1[\"INDICATOR_CODE\"].unique())"
   ]
  },
  {
   "cell_type": "code",
   "execution_count": null,
   "metadata": {},
   "outputs": [],
   "source": [
    "# Instantiate class\n",
    "\n",
    "crba_final_2020 = pd.read_csv(\"D:\\\\Documents\\\\2020\\\\28_UNICEF\\\\10_working_repo\\\\data-etl\\\\data_out\\\\crba_final_sdmx_ready.csv\", \";\") \n",
    "crba_final_2023 = pd.read_csv(\"D:\\\\Documents\\\\2023\\\\7_UNICEF\\\\major-dax-crba-etl\\\\crba-etl\\\\config\\\\2023\\\\out\\\\data\\\\crba_final.csv\", \";\")\n",
    "\n",
    "my_comparer = FinalCrbaFileComparator(\n",
    "    crba_final_2020,\n",
    "    crba_final_2023\n",
    ")\n",
    "\n",
    "# NB: df_2 is crba_final_2023"
   ]
  },
  {
   "attachments": {},
   "cell_type": "markdown",
   "metadata": {},
   "source": [
    "# 2. EDA on final file\n",
    "\n",
    "1. Number of NAN countries per indicator\n",
    "2. Number of NA observations per country\n",
    "3. Number of indicators per category\n",
    "4. Top and bottom 5 countries overall and per INDEX"
   ]
  },
  {
   "attachments": {},
   "cell_type": "markdown",
   "metadata": {},
   "source": [
    "## 2.1 Numer of NAN countries per indicator"
   ]
  },
  {
   "cell_type": "code",
   "execution_count": null,
   "metadata": {},
   "outputs": [],
   "source": [
    "# Number of NAN countries per indicator\n",
    "my_comparer.get_number_of_NA_per_column_value(\n",
    "    my_comparer.df_2,\n",
    "    column_for_per_category=\"INDICATOR_CODE\"\n",
    ")"
   ]
  },
  {
   "attachments": {},
   "cell_type": "markdown",
   "metadata": {},
   "source": [
    "## 2.2 Numer of NA observations per country"
   ]
  },
  {
   "cell_type": "code",
   "execution_count": null,
   "metadata": {},
   "outputs": [],
   "source": [
    "my_comparer.df_2"
   ]
  },
  {
   "cell_type": "code",
   "execution_count": null,
   "metadata": {},
   "outputs": [],
   "source": [
    "# Number of NAN countries per indicator\n",
    "my_comparer.get_number_of_NA_per_column_value(\n",
    "    my_comparer.df_2,\n",
    "    column_for_per_category=\"COUNTRY_ISO_3\"\n",
    ")"
   ]
  },
  {
   "attachments": {},
   "cell_type": "markdown",
   "metadata": {},
   "source": [
    "## 2.3 Numberer of indicators per category"
   ]
  },
  {
   "cell_type": "code",
   "execution_count": null,
   "metadata": {},
   "outputs": [],
   "source": [
    "my_comparer.get_number_of_indicators_per_column(\n",
    "    df = my_comparer.df_1\n",
    ")"
   ]
  },
  {
   "cell_type": "code",
   "execution_count": null,
   "metadata": {},
   "outputs": [],
   "source": [
    "my_comparer.get_number_of_indicators_per_column(\n",
    "    df = my_comparer.df_2\n",
    ")"
   ]
  },
  {
   "attachments": {},
   "cell_type": "markdown",
   "metadata": {},
   "source": [
    "## 2.4 Top and bottom 5 countries overall"
   ]
  },
  {
   "cell_type": "code",
   "execution_count": null,
   "metadata": {},
   "outputs": [],
   "source": [
    "my_comparer.get_top_and_worst_countries_per_category(\"OVERALL\")"
   ]
  },
  {
   "cell_type": "code",
   "execution_count": null,
   "metadata": {},
   "outputs": [],
   "source": [
    "my_comparer.get_top_and_worst_countries_per_category(\"INDEX\")"
   ]
  },
  {
   "attachments": {},
   "cell_type": "markdown",
   "metadata": {},
   "source": [
    "# 3. Comparison of files of 2023 and 2020\n",
    "\n",
    "1. Comparison of existing olumns\n",
    "2. Compare distributions of `TIME_PERIOD` \n",
    "3. Compare distribution of scores\n",
    "    5.1 Overall score\n",
    "    5.2 Score per INDEX\n",
    "4. Which country has improved/ worsened most? \n",
    "5. For which observations has `TIME_PERIOD` become older?\n",
    "6. Which indicators have been retired/ added between 2020 and 2023?\n",
    "7. Percentage of observations for which we have new data\n",
    "8. Distribution of rank change\n",
    "\n",
    "(SKIPPED Run the same health checks (i.e. Indonesia > Canada) as before)"
   ]
  },
  {
   "attachments": {},
   "cell_type": "markdown",
   "metadata": {},
   "source": [
    "## 3.1 Comparison of existing column"
   ]
  },
  {
   "cell_type": "code",
   "execution_count": null,
   "metadata": {},
   "outputs": [],
   "source": [
    "my_comparer.compare_existing_columns()"
   ]
  },
  {
   "attachments": {},
   "cell_type": "markdown",
   "metadata": {},
   "source": [
    "## 3.2. Comparison of distributions of TIME_PERIOD"
   ]
  },
  {
   "cell_type": "code",
   "execution_count": null,
   "metadata": {},
   "outputs": [],
   "source": [
    "my_comparer.compare_column_distribution(\"TIME_PERIOD\")"
   ]
  },
  {
   "attachments": {},
   "cell_type": "markdown",
   "metadata": {},
   "source": [
    "## 3.3 Comparison of distributions of scores\n",
    "### 3.3.1 OVERALL SCORE"
   ]
  },
  {
   "cell_type": "code",
   "execution_count": null,
   "metadata": {},
   "outputs": [],
   "source": [
    "my_comparer.compare_column_distribution(\"SCALED_OBS_VALUE\")"
   ]
  },
  {
   "cell_type": "code",
   "execution_count": null,
   "metadata": {},
   "outputs": [],
   "source": [
    "print(my_comparer.df_1[\"OVERALL_SCORE\"].mean())\n",
    "print(my_comparer.df_2[\"OVERALL_SCORE\"].mean())\n",
    "my_comparer.compare_column_distribution(\"OVERALL_SCORE\")"
   ]
  },
  {
   "attachments": {},
   "cell_type": "markdown",
   "metadata": {},
   "source": [
    "## 3.3.2 Score per Index"
   ]
  },
  {
   "cell_type": "code",
   "execution_count": null,
   "metadata": {},
   "outputs": [],
   "source": [
    "index_list=[\n",
    "    [\"WP\", \"Workplace\"],\n",
    "    [\"CE\", \"Community and Environment\"],\n",
    "    [\"MP\", \"Marketplace\"]\n",
    "]\n",
    "\n",
    "for i in index_list:\n",
    "    print(i)\n",
    "    my_comparer.compare_column_distribution(\n",
    "        column_name=\"SCALED_OBS_VALUE\",\n",
    "        filter_to_subset_df_1=my_comparer.df_1_filtered['INDICATOR_INDEX']==i[0],\n",
    "        filter_to_subset_df_2=my_comparer.df_2_filtered['INDICATOR_INDEX']==i[1]\n",
    "    )"
   ]
  },
  {
   "attachments": {},
   "cell_type": "markdown",
   "metadata": {},
   "source": [
    "### 3.3.3 Per issue"
   ]
  },
  {
   "cell_type": "code",
   "execution_count": null,
   "metadata": {},
   "outputs": [],
   "source": [
    "# issue_list=[\n",
    "#     [\"CHLD_LABOUR\", \"Child labour\"],\n",
    "#     [\"ONLINE_ABUSE_EXPL\", \"Online Abuse and exploitation\"],\n",
    "#     [\"MARKETING_ADV\", \"Marketing and Advertising\"],\n",
    "#     [\"RESOURCE_ENV_DAMAGE\", \"Resource use and damage to the environment\"],\n",
    "#     [\"LAND_RIGHTS\", \"Land rights\"],\n",
    "#     [\"SECURITY_ARRANGMENTS\", \"Security arrangements\"],\n",
    "#     [\"NAT_DISASTERS\", \"Natural disasters\"],\n",
    "#     [\"CH_RIGHTS_FULLF\", \"Fulfillment of children’s rights\"],\n",
    "#     [\"DECENT_WORK_COND\", \"Decent working conditions\"],\n",
    "#     [\"MAT_PAT_PROT\", \"Maternity and paternity protection\"],\n",
    "# ]\n",
    "\n",
    "# for i in index_list:\n",
    "#     print(i)\n",
    "#     my_comparer.compare_column_distribution(\n",
    "#         column_name=\"SCALED_OBS_VALUE\",\n",
    "#         filter_to_subset_df_1=my_comparer.df_1_filtered['INDICATOR_ISSUE']==i[0],\n",
    "#         filter_to_subset_df_2=my_comparer.df_2_filtered['INDICATOR_ISSUE']==i[1]\n",
    "#     )"
   ]
  },
  {
   "attachments": {},
   "cell_type": "markdown",
   "metadata": {},
   "source": [
    "## 3.4 Which country has improved/ worsened most?"
   ]
  },
  {
   "cell_type": "code",
   "execution_count": null,
   "metadata": {},
   "outputs": [],
   "source": [
    "my_comparer.compute_country_score_changes(target_col=\"OVERALL_SCORE\")"
   ]
  },
  {
   "attachments": {},
   "cell_type": "markdown",
   "metadata": {},
   "source": [
    "## 3.5 For which observations has TIME_PERIOD become older?"
   ]
  },
  {
   "cell_type": "code",
   "execution_count": null,
   "metadata": {},
   "outputs": [],
   "source": [
    "my_comparer.calculate_percentage_of_updated_observations()"
   ]
  },
  {
   "attachments": {},
   "cell_type": "markdown",
   "metadata": {},
   "source": [
    "## 3.6 Which indicators have been retired/ added between 2020 and 2023? "
   ]
  },
  {
   "cell_type": "code",
   "execution_count": null,
   "metadata": {},
   "outputs": [],
   "source": [
    "my_comparer.find_unique_values(\"INDICATOR_CODE\")"
   ]
  },
  {
   "cell_type": "code",
   "execution_count": null,
   "metadata": {},
   "outputs": [],
   "source": [
    "unique_2020 = ['CE_LR_LF_CORIIP',\n",
    " #'CE_ND_OC_NEDPND', # Will be gone when Lasse merged nltp stopwords\n",
    " #'CE_ND_OC_NPIDND', # Will be gone when Lasse merged nltp stopwords\n",
    " 'CE_SA_LF_USCHHP',\n",
    " #'CE_SA_OC_NEDPCV', # Will be gone when Lasse merged nltp stopwords\n",
    " #'CE_SA_OC_NPIDCV', # Will be gone when Lasse merged nltp stopwords\n",
    " #'CE_SA_OC_REUSCH', # Will be gone when Lasse merged nltp stopwords\n",
    " #'MP_MA_EN_OPPOAU', # Will be gone when Lasse merged nltp stopwords\n",
    " #'MP_MA_EN_OPPOTU', # Will be gone when Lasse merged nltp stopwords\n",
    " 'MP_OL_EN_CSAEGC',\n",
    " 'MP_OL_OC_CHSAEE',\n",
    " 'WP_CL_LF_CSAELF',\n",
    " 'WP_CL_OC_PRHAWA',\n",
    " 'WP_DW_LF_FREASS',\n",
    " 'WP_MP_EN_MALECB',\n",
    " 'WP_MP_OC_COMALE',\n",
    " 'WP_MP_OC_MACABE']\n",
    "unique_2023 = ['CE_ND_OC_NEDIND',\n",
    " 'CE_ND_OC_NUIDND',\n",
    " 'CE_SA_OC_NEDICV',\n",
    " 'CE_SA_OC_NUIDCV',\n",
    " 'CE_SA_OC_RECHHO',\n",
    " 'MP_MA_EN_OPPOAL',\n",
    " 'MP_MA_EN_OPPOTO']"
   ]
  },
  {
   "cell_type": "code",
   "execution_count": null,
   "metadata": {},
   "outputs": [],
   "source": [
    "dif_2020 = [\n",
    "    #'WP_MP_OC_MACABE', # Retired according to CRBA ticket\n",
    "    #'MP_OL_OC_CHSAEE', # Retired according to CRBA ticket\n",
    "    'CE_LR_LF_CORIIP', \n",
    "    #'WP_CL_OC_PRHAWA', # Retired according to CRBA ticket\n",
    "    #'CE_SA_LF_USCHHP', # Retired according to CRBA ticket\n",
    "    #'WP_CL_LF_CSAELF', # Retired according to CRBA ticket\n",
    "    #'MP_OL_EN_CSAEGC', # Retired according to CRBA ticket\n",
    "    #'WP_MP_EN_MALECB', # Retired according to CRBA ticket\n",
    "    #'WP_MP_OC_COMALE', # Retired according to CRBA ticket\n",
    "    'WP_DW_LF_FREASS' \n",
    "]\n",
    "len(dif_2020)\n"
   ]
  },
  {
   "cell_type": "code",
   "execution_count": null,
   "metadata": {},
   "outputs": [],
   "source": [
    "my_comparer.df_1[my_comparer.df_1[\"INDICATOR_CODE\"].isin(dif_2020)].groupby(['INDICATOR_CODE']).first()#[\"INDICATOR_CODE\"].unique()\n"
   ]
  },
  {
   "attachments": {},
   "cell_type": "markdown",
   "metadata": {},
   "source": [
    "## 3.7 Compairson of length of dataframe"
   ]
  },
  {
   "cell_type": "code",
   "execution_count": null,
   "metadata": {},
   "outputs": [],
   "source": [
    "my_comparer.compare_number_of_rows()"
   ]
  },
  {
   "attachments": {},
   "cell_type": "markdown",
   "metadata": {},
   "source": [
    "## 3.8 Compute distribution of rank changes"
   ]
  },
  {
   "cell_type": "code",
   "execution_count": null,
   "metadata": {},
   "outputs": [],
   "source": [
    "my_comparer.compute_country_score_changes(target_col=\"RANK_OVERALL_SCORE\")"
   ]
  },
  {
   "attachments": {},
   "cell_type": "markdown",
   "metadata": {},
   "source": [
    "# 4 Export of datasets for further manual validation and sanity checks\n",
    "\n",
    "Compute the aggregate scores for all aggregation levels and create a wide-form dataframe"
   ]
  },
  {
   "cell_type": "code",
   "execution_count": null,
   "metadata": {},
   "outputs": [],
   "source": [
    "# Compute aggregated scores and add overall score: 2020\n",
    "aggregated_scores_2020 = my_comparer.create_aggregate_scores_df(my_comparer.df_1)\n",
    "aggregated_scores_2020 = aggregated_scores_2020.merge(my_comparer.df_1[[\"COUNTRY_ISO_3\", \"OVERALL_SCORE\"]].groupby(\"COUNTRY_ISO_3\").first(), on=\"COUNTRY_ISO_3\", how=\"left\")\n",
    "aggregated_scores_2020 = aggregated_scores_2020.add_suffix('_2020')\n",
    "\n",
    "# Compute aggregated scores and add overall score: 2023\n",
    "aggregated_scores_2023 = my_comparer.create_aggregate_scores_df(my_comparer.df_2)\n",
    "aggregated_scores_2023 = aggregated_scores_2023.merge(my_comparer.df_2[[\"COUNTRY_ISO_3\", \"OVERALL_SCORE\"]].groupby(\"COUNTRY_ISO_3\").first(), on=\"COUNTRY_ISO_3\", how=\"left\")\n",
    "aggregated_scores_2023 = aggregated_scores_2023.add_suffix('_2023')"
   ]
  },
  {
   "cell_type": "code",
   "execution_count": null,
   "metadata": {},
   "outputs": [],
   "source": [
    "# Join df\n",
    "aggregated_scores_combined = aggregated_scores_2020.merge(aggregated_scores_2023, on=\"COUNTRY_ISO_3\", suffixes=(\"_2020\", \"_2023\"))\n",
    "\n",
    "# Compute overall score diff\n",
    "aggregated_scores_combined[\"OVERALL_SCORE_DIFF\"] = aggregated_scores_combined[\"OVERALL_SCORE_2023\"] - aggregated_scores_combined[\"OVERALL_SCORE_2020\"]\n",
    "\n",
    "# Add country names\n",
    "aggregated_scores_combined = aggregated_scores_combined.merge(my_comparer.df_2[[\"COUNTRY_ISO_3\", \"COUNTRY_NAME\"]].groupby(\"COUNTRY_ISO_3\").first(), on=\"COUNTRY_ISO_3\", how=\"left\")"
   ]
  },
  {
   "cell_type": "code",
   "execution_count": null,
   "metadata": {},
   "outputs": [],
   "source": [
    "# Export\n",
    "aggregated_scores_combined.round(2).sort_index(axis=1).to_excel(\"aggregated_scores.xlsx\")"
   ]
  }
 ],
 "metadata": {
  "kernelspec": {
   "display_name": "env",
   "language": "python",
   "name": "python3"
  },
  "language_info": {
   "codemirror_mode": {
    "name": "ipython",
    "version": 3
   },
   "file_extension": ".py",
   "mimetype": "text/x-python",
   "name": "python",
   "nbconvert_exporter": "python",
   "pygments_lexer": "ipython3",
   "version": "3.10.8"
  },
  "orig_nbformat": 4
 },
 "nbformat": 4,
 "nbformat_minor": 2
}
