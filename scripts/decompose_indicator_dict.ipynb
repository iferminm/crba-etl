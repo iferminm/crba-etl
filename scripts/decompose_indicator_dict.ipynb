{
 "cells": [
  {
   "cell_type": "code",
   "execution_count": 6,
   "metadata": {},
   "outputs": [],
   "source": [
    "import pandas as pd\n",
    "from pathlib import Path\n"
   ]
  },
  {
   "cell_type": "markdown",
   "metadata": {},
   "source": [
    "To compare two files diffrent tools can be used. Most IDE's have this feature in place."
   ]
  },
  {
   "cell_type": "code",
   "execution_count": 7,
   "metadata": {},
   "outputs": [
    {
     "ename": "FileExistsError",
     "evalue": "[Errno 17] File exists: 'decomposed_indicator_dictionary_CRBA'",
     "output_type": "error",
     "traceback": [
      "\u001b[0;31m---------------------------------------------------------------------------\u001b[0m",
      "\u001b[0;31mFileExistsError\u001b[0m                           Traceback (most recent call last)",
      "Cell \u001b[0;32mIn[7], line 3\u001b[0m\n\u001b[1;32m      1\u001b[0m indicator_dict_path \u001b[39m=\u001b[39m Path(\u001b[39m\"\u001b[39m\u001b[39m../indicator_dictionary_CRBA.xlsx\u001b[39m\u001b[39m\"\u001b[39m)\n\u001b[1;32m      2\u001b[0m output_path \u001b[39m=\u001b[39m Path(\u001b[39m\"\u001b[39m\u001b[39mdecomposed_indicator_dictionary_CRBA/\u001b[39m\u001b[39m\"\u001b[39m)\n\u001b[0;32m----> 3\u001b[0m output_path\u001b[39m.\u001b[39;49mmkdir()\n",
      "File \u001b[0;32m~/.pyenv/versions/3.10.8/lib/python3.10/pathlib.py:1175\u001b[0m, in \u001b[0;36mPath.mkdir\u001b[0;34m(self, mode, parents, exist_ok)\u001b[0m\n\u001b[1;32m   1171\u001b[0m \u001b[39m\u001b[39m\u001b[39m\"\"\"\u001b[39;00m\n\u001b[1;32m   1172\u001b[0m \u001b[39mCreate a new directory at this given path.\u001b[39;00m\n\u001b[1;32m   1173\u001b[0m \u001b[39m\"\"\"\u001b[39;00m\n\u001b[1;32m   1174\u001b[0m \u001b[39mtry\u001b[39;00m:\n\u001b[0;32m-> 1175\u001b[0m     \u001b[39mself\u001b[39;49m\u001b[39m.\u001b[39;49m_accessor\u001b[39m.\u001b[39;49mmkdir(\u001b[39mself\u001b[39;49m, mode)\n\u001b[1;32m   1176\u001b[0m \u001b[39mexcept\u001b[39;00m \u001b[39mFileNotFoundError\u001b[39;00m:\n\u001b[1;32m   1177\u001b[0m     \u001b[39mif\u001b[39;00m \u001b[39mnot\u001b[39;00m parents \u001b[39mor\u001b[39;00m \u001b[39mself\u001b[39m\u001b[39m.\u001b[39mparent \u001b[39m==\u001b[39m \u001b[39mself\u001b[39m:\n",
      "\u001b[0;31mFileExistsError\u001b[0m: [Errno 17] File exists: 'decomposed_indicator_dictionary_CRBA'"
     ]
    }
   ],
   "source": [
    "indicator_dict_path = Path(\"../indicator_dictionary_CRBA.xlsx\")\n",
    "output_path = Path(\"decomposed_indicator_dictionary_CRBA/\")\n",
    "output_path.mkdir()"
   ]
  },
  {
   "cell_type": "code",
   "execution_count": 37,
   "metadata": {},
   "outputs": [],
   "source": [
    "df = pd.read_excel(indicator_dict_path, sheet_name=\"Source\")\n",
    "\n",
    "df.ENDPOINT_URL = df.ENDPOINT_URL.astype(str)\n",
    "df_snap = pd.read_excel(\"../indicator_dictionary_CRBA.xlsx\", sheet_name=\"Snapshot_2020\")\n",
    "df_indicator = pd.read_excel(\"../indicator_dictionary_CRBA.xlsx\", sheet_name=\"Indicator\")\n",
    "df = df.merge(right=df_snap, on=\"SOURCE_ID\").merge(right=df_indicator, on=\"INDICATOR_ID\")\n",
    "\n",
    "df = df[\n",
    "    [\n",
    "        \"SOURCE_ID\",\n",
    "        \"INDICATOR_ID\",\n",
    "        \"VALUE_ID\",\n",
    "        \"SOURCE_TYPE\",\n",
    "        \"SOURCE_BODY\",\n",
    "        \"SOURCE_TITLE\",\n",
    "        \"ADDRESS\",\n",
    "        \"ENDPOINT_URL\",\n",
    "        \"un_treaty_data_col\",\n",
    "        \"WPA_OBS_RAW_COL\",\n",
    "        \"WPA_YEAR_COL\",\n",
    "        \"RAW_OBS_VALUE_COLUMN_NAME\",\n",
    "        \"COUNTRY_NAME_COLUMN_NAME\",\n",
    "        \"RAW_OBS_VALUE_TYPE\",\n",
    "        \"ATTR_RATIFICATION_DATE_COLUMN_NAME\",\n",
    "        \"ATTR_UNIT_MEASURE\",\n",
    "        \"INVERT_NORMALIZATION\",\n",
    "        \"DIMENSION_VALUES_NORMALIZATION\",\n",
    "        \"UNIT_MEASURE\",\n",
    "        \"EXTRACTOR_CLASS\"\n",
    "        ]\n",
    "]\n",
    "\n",
    "df[\"FROMER_SOURCE_ID\"] = df[\"SOURCE_ID\"]\n",
    "df.reset_index()\n",
    "df[\"SOURCE_ID\"] = df.index.map(lambda x: f\"S-{x+1}\")\n",
    "df = df.set_index(\"SOURCE_ID\")\n",
    "\n",
    "df.to_json(output_path/\"source_definitions.json\", orient=\"index\", indent=2)\n",
    "\n",
    "df_selection = pd.DataFrame(index=df.index)\n",
    "df_selection.merge\n",
    "df_selection[\"STARTPERIOD\"] = \"xxx\"\n",
    "df_selection[\"ENDPERIOD\"] = \"xxx\"\n",
    "df_selection[\"TIMEPERIOD\"] = \"xxx\"\n",
    "df_selection[\"CONFIG_YEAR\"] = 2020\n",
    "df_selection[\"FILE_PATH\"] = \"file/somwhere\"\n",
    "df_selection.to_json(output_path/\"source_selection.json\", orient=\"index\", indent=2)\n",
    "\n"
   ]
  },
  {
   "cell_type": "code",
   "execution_count": null,
   "metadata": {},
   "outputs": [],
   "source": []
  }
 ],
 "metadata": {
  "kernelspec": {
   "display_name": "Python 3.10.8 ('crba-project-5qZtH06h-py3.10')",
   "language": "python",
   "name": "python3"
  },
  "language_info": {
   "codemirror_mode": {
    "name": "ipython",
    "version": 3
   },
   "file_extension": ".py",
   "mimetype": "text/x-python",
   "name": "python",
   "nbconvert_exporter": "python",
   "pygments_lexer": "ipython3",
   "version": "3.10.8"
  },
  "orig_nbformat": 4,
  "vscode": {
   "interpreter": {
    "hash": "d582c946fe7285a9234d90fb334301e0d8c2adc977501ec50fb206c3e27d8907"
   }
  }
 },
 "nbformat": 4,
 "nbformat_minor": 2
}
