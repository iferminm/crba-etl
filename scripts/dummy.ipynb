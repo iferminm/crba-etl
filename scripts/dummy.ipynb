{
 "cells": [
  {
   "cell_type": "code",
   "execution_count": 3,
   "metadata": {},
   "outputs": [],
   "source": [
    "import os\n",
    "import json\n",
    "\n",
    "from pathlib import Path\n",
    "with open(\"../etl/resources/source_definitions.json\",\"r\") as f:\n",
    "    source_def = json.load(f)\n",
    "source_def[\"S-1\"]\n",
    "\n",
    "source_former_mapper = {source_id:source_def[source_id][\"FROMER_SOURCE_ID\"] for source_id in source_def.keys() }\n",
    "source_former_mapper\n",
    "former_source_mapper = {former:source for source,former in source_former_mapper.items()}\n",
    "for source_file in os.listdir(\"../config/2020/in/data/staging\"):\n",
    "    source_name = source_file.replace(\".xlsx\",\"\")\n",
    "    new_source_id = former_source_mapper.get(source_name)\n",
    "    if new_source_id:\n",
    "        os.rename(f\"../config/2020/in/data/staging/{source_name}.xlsx\", f\"../config/2020/in/data/staging/{new_source_id}.xlsx\")\n",
    "    else:\n",
    "        raise Exception(\"source_name\")"
   ]
  },
  {
   "cell_type": "code",
   "execution_count": null,
   "metadata": {},
   "outputs": [],
   "source": []
  }
 ],
 "metadata": {
  "kernelspec": {
   "display_name": "Python 3.10.8 ('crba-project-5qZtH06h-py3.10')",
   "language": "python",
   "name": "python3"
  },
  "language_info": {
   "codemirror_mode": {
    "name": "ipython",
    "version": 3
   },
   "file_extension": ".py",
   "mimetype": "text/x-python",
   "name": "python",
   "nbconvert_exporter": "python",
   "pygments_lexer": "ipython3",
   "version": "3.10.8"
  },
  "orig_nbformat": 4,
  "vscode": {
   "interpreter": {
    "hash": "d582c946fe7285a9234d90fb334301e0d8c2adc977501ec50fb206c3e27d8907"
   }
  }
 },
 "nbformat": 4,
 "nbformat_minor": 2
}
